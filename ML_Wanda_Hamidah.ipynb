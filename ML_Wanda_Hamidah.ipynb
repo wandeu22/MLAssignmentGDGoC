{
  "cells": [
    {
      "cell_type": "markdown",
      "metadata": {
        "id": "FvcYxbVwm-fq"
      },
      "source": [
        "## Proyek Analisis Data: Mobil Bekas Dataset\n",
        "- Nama : Wanda Hamidah\n",
        "- Jurusan : Sistem Komputer\n",
        "- Email : wndhmdh23@gmail.com\n"
      ]
    },
    {
      "cell_type": "markdown",
      "metadata": {
        "id": "bXE95I-2m-fu"
      },
      "source": [
        "## Menentukan Pertanyaan Bisnis\n",
        "- Bagaimana hubungan antara harga dan tipe bahan bakar dalam 3 tahun terakhir?"
      ]
    },
    {
      "cell_type": "markdown",
      "metadata": {
        "id": "9pXr_ZFFm-fv"
      },
      "source": [
        "## Import Semua Packages/Library yang Digunakan"
      ]
    },
    {
      "cell_type": "code",
      "execution_count": 3,
      "metadata": {
        "id": "hqFeqXC7m-fw"
      },
      "outputs": [],
      "source": [
        "import pandas as pd\n",
        "import matplotlib.pyplot as plt\n",
        "import seaborn as sns\n",
        "import numpy as np\n",
        "from statsmodels.tsa.seasonal import seasonal_decompose"
      ]
    },
    {
      "cell_type": "markdown",
      "metadata": {
        "id": "MT81MYPKm-fz"
      },
      "source": [
        "# Data Wrangling"
      ]
    },
    {
      "cell_type": "markdown",
      "metadata": {
        "id": "v2yDL9VNm-fz"
      },
      "source": [
        "## Gathering Data"
      ]
    },
    {
      "cell_type": "markdown",
      "metadata": {
        "id": "Fp5UYZydm-f0"
      },
      "source": [
        "#### Membaca dataset dari path yang dituju"
      ]
    },
    {
      "cell_type": "code",
      "execution_count": 4,
      "metadata": {
        "id": "f8MPH_Iim-f0"
      },
      "outputs": [],
      "source": [
        "df = pd.read_csv('/content/used_car_dataset.csv')"
      ]
    },
    {
      "cell_type": "markdown",
      "metadata": {
        "id": "OCYHBv5Zm-f1"
      },
      "source": [
        "#### Menampilkan dataset untuk melihat data nya"
      ]
    },
    {
      "cell_type": "code",
      "execution_count": 5,
      "metadata": {
        "colab": {
          "base_uri": "https://localhost:8080/",
          "height": 424
        },
        "id": "PZpagd8om-f2",
        "outputId": "76e6986d-adfb-4426-ac6a-c352c3163c05"
      },
      "outputs": [
        {
          "output_type": "execute_result",
          "data": {
            "text/plain": [
              "              Brand      model  Year  Age     kmDriven Transmission   Owner  \\\n",
              "0             Honda       City  2001   23    98,000 km       Manual  second   \n",
              "1            Toyota     Innova  2009   15  190000.0 km       Manual  second   \n",
              "2        Volkswagen  VentoTest  2010   14    77,246 km       Manual   first   \n",
              "3     Maruti Suzuki      Swift  2017    7    83,500 km       Manual  second   \n",
              "4     Maruti Suzuki     Baleno  2019    5    45,000 km    Automatic   first   \n",
              "...             ...        ...   ...  ...          ...          ...     ...   \n",
              "9577          Skoda    Octavia  2014   10   105,904 km    Automatic  second   \n",
              "9578  Maruti Suzuki   Alto-800  2020    4    55,000 km       Manual   first   \n",
              "9579  Maruti Suzuki       Ritz  2013   11    92,000 km       Manual   first   \n",
              "9580        Hyundai      Verna  2019    5    72,000 km    Automatic   first   \n",
              "9581        Hyundai    New i20  2021    3    83,228 km       Manual  second   \n",
              "\n",
              "        FuelType PostedDate  \\\n",
              "0         Petrol     Nov-24   \n",
              "1         Diesel     Jul-24   \n",
              "2         Diesel     Nov-24   \n",
              "3         Diesel     Nov-24   \n",
              "4         Petrol     Nov-24   \n",
              "...          ...        ...   \n",
              "9577      Diesel     Oct-24   \n",
              "9578  Hybrid/CNG     Nov-24   \n",
              "9579      Diesel     Nov-24   \n",
              "9580      Petrol     Oct-24   \n",
              "9581      Petrol     Nov-24   \n",
              "\n",
              "                                           AdditionInfo     AskPrice  \n",
              "0     Honda City v teck in mint condition, valid gen...   ₹ 1,95,000  \n",
              "1     Toyota Innova 2.5 G (Diesel) 7 Seater, 2009, D...   ₹ 3,75,000  \n",
              "2     Volkswagen Vento 2010-2013 Diesel Breeze, 2010...   ₹ 1,84,999  \n",
              "3        Maruti Suzuki Swift 2017 Diesel Good Condition   ₹ 5,65,000  \n",
              "4          Maruti Suzuki Baleno Alpha CVT, 2019, Petrol   ₹ 6,85,000  \n",
              "...                                                 ...          ...  \n",
              "9577       Skoda Octavia 1.9 Elegance TDI, 2014, Diesel  ₹ 10,40,000  \n",
              "9578  Maruti Suzuki Alto 800 CNG LXI Optional, 2020,...   ₹ 3,75,000  \n",
              "9579               Maruti Suzuki Ritz VDi, 2013, Diesel   ₹ 4,15,000  \n",
              "9580  Hyundai Verna VTVT 1.6 AT SX Option, 2019, Petrol   ₹ 8,55,000  \n",
              "9581         Hyundai New i20 1.2 Asta IVT, 2021, Petrol   ₹ 6,99,000  \n",
              "\n",
              "[9582 rows x 11 columns]"
            ],
            "text/html": [
              "\n",
              "  <div id=\"df-82da9e67-4c80-4a79-961b-32b1d2e4259b\" class=\"colab-df-container\">\n",
              "    <div>\n",
              "<style scoped>\n",
              "    .dataframe tbody tr th:only-of-type {\n",
              "        vertical-align: middle;\n",
              "    }\n",
              "\n",
              "    .dataframe tbody tr th {\n",
              "        vertical-align: top;\n",
              "    }\n",
              "\n",
              "    .dataframe thead th {\n",
              "        text-align: right;\n",
              "    }\n",
              "</style>\n",
              "<table border=\"1\" class=\"dataframe\">\n",
              "  <thead>\n",
              "    <tr style=\"text-align: right;\">\n",
              "      <th></th>\n",
              "      <th>Brand</th>\n",
              "      <th>model</th>\n",
              "      <th>Year</th>\n",
              "      <th>Age</th>\n",
              "      <th>kmDriven</th>\n",
              "      <th>Transmission</th>\n",
              "      <th>Owner</th>\n",
              "      <th>FuelType</th>\n",
              "      <th>PostedDate</th>\n",
              "      <th>AdditionInfo</th>\n",
              "      <th>AskPrice</th>\n",
              "    </tr>\n",
              "  </thead>\n",
              "  <tbody>\n",
              "    <tr>\n",
              "      <th>0</th>\n",
              "      <td>Honda</td>\n",
              "      <td>City</td>\n",
              "      <td>2001</td>\n",
              "      <td>23</td>\n",
              "      <td>98,000 km</td>\n",
              "      <td>Manual</td>\n",
              "      <td>second</td>\n",
              "      <td>Petrol</td>\n",
              "      <td>Nov-24</td>\n",
              "      <td>Honda City v teck in mint condition, valid gen...</td>\n",
              "      <td>₹ 1,95,000</td>\n",
              "    </tr>\n",
              "    <tr>\n",
              "      <th>1</th>\n",
              "      <td>Toyota</td>\n",
              "      <td>Innova</td>\n",
              "      <td>2009</td>\n",
              "      <td>15</td>\n",
              "      <td>190000.0 km</td>\n",
              "      <td>Manual</td>\n",
              "      <td>second</td>\n",
              "      <td>Diesel</td>\n",
              "      <td>Jul-24</td>\n",
              "      <td>Toyota Innova 2.5 G (Diesel) 7 Seater, 2009, D...</td>\n",
              "      <td>₹ 3,75,000</td>\n",
              "    </tr>\n",
              "    <tr>\n",
              "      <th>2</th>\n",
              "      <td>Volkswagen</td>\n",
              "      <td>VentoTest</td>\n",
              "      <td>2010</td>\n",
              "      <td>14</td>\n",
              "      <td>77,246 km</td>\n",
              "      <td>Manual</td>\n",
              "      <td>first</td>\n",
              "      <td>Diesel</td>\n",
              "      <td>Nov-24</td>\n",
              "      <td>Volkswagen Vento 2010-2013 Diesel Breeze, 2010...</td>\n",
              "      <td>₹ 1,84,999</td>\n",
              "    </tr>\n",
              "    <tr>\n",
              "      <th>3</th>\n",
              "      <td>Maruti Suzuki</td>\n",
              "      <td>Swift</td>\n",
              "      <td>2017</td>\n",
              "      <td>7</td>\n",
              "      <td>83,500 km</td>\n",
              "      <td>Manual</td>\n",
              "      <td>second</td>\n",
              "      <td>Diesel</td>\n",
              "      <td>Nov-24</td>\n",
              "      <td>Maruti Suzuki Swift 2017 Diesel Good Condition</td>\n",
              "      <td>₹ 5,65,000</td>\n",
              "    </tr>\n",
              "    <tr>\n",
              "      <th>4</th>\n",
              "      <td>Maruti Suzuki</td>\n",
              "      <td>Baleno</td>\n",
              "      <td>2019</td>\n",
              "      <td>5</td>\n",
              "      <td>45,000 km</td>\n",
              "      <td>Automatic</td>\n",
              "      <td>first</td>\n",
              "      <td>Petrol</td>\n",
              "      <td>Nov-24</td>\n",
              "      <td>Maruti Suzuki Baleno Alpha CVT, 2019, Petrol</td>\n",
              "      <td>₹ 6,85,000</td>\n",
              "    </tr>\n",
              "    <tr>\n",
              "      <th>...</th>\n",
              "      <td>...</td>\n",
              "      <td>...</td>\n",
              "      <td>...</td>\n",
              "      <td>...</td>\n",
              "      <td>...</td>\n",
              "      <td>...</td>\n",
              "      <td>...</td>\n",
              "      <td>...</td>\n",
              "      <td>...</td>\n",
              "      <td>...</td>\n",
              "      <td>...</td>\n",
              "    </tr>\n",
              "    <tr>\n",
              "      <th>9577</th>\n",
              "      <td>Skoda</td>\n",
              "      <td>Octavia</td>\n",
              "      <td>2014</td>\n",
              "      <td>10</td>\n",
              "      <td>105,904 km</td>\n",
              "      <td>Automatic</td>\n",
              "      <td>second</td>\n",
              "      <td>Diesel</td>\n",
              "      <td>Oct-24</td>\n",
              "      <td>Skoda Octavia 1.9 Elegance TDI, 2014, Diesel</td>\n",
              "      <td>₹ 10,40,000</td>\n",
              "    </tr>\n",
              "    <tr>\n",
              "      <th>9578</th>\n",
              "      <td>Maruti Suzuki</td>\n",
              "      <td>Alto-800</td>\n",
              "      <td>2020</td>\n",
              "      <td>4</td>\n",
              "      <td>55,000 km</td>\n",
              "      <td>Manual</td>\n",
              "      <td>first</td>\n",
              "      <td>Hybrid/CNG</td>\n",
              "      <td>Nov-24</td>\n",
              "      <td>Maruti Suzuki Alto 800 CNG LXI Optional, 2020,...</td>\n",
              "      <td>₹ 3,75,000</td>\n",
              "    </tr>\n",
              "    <tr>\n",
              "      <th>9579</th>\n",
              "      <td>Maruti Suzuki</td>\n",
              "      <td>Ritz</td>\n",
              "      <td>2013</td>\n",
              "      <td>11</td>\n",
              "      <td>92,000 km</td>\n",
              "      <td>Manual</td>\n",
              "      <td>first</td>\n",
              "      <td>Diesel</td>\n",
              "      <td>Nov-24</td>\n",
              "      <td>Maruti Suzuki Ritz VDi, 2013, Diesel</td>\n",
              "      <td>₹ 4,15,000</td>\n",
              "    </tr>\n",
              "    <tr>\n",
              "      <th>9580</th>\n",
              "      <td>Hyundai</td>\n",
              "      <td>Verna</td>\n",
              "      <td>2019</td>\n",
              "      <td>5</td>\n",
              "      <td>72,000 km</td>\n",
              "      <td>Automatic</td>\n",
              "      <td>first</td>\n",
              "      <td>Petrol</td>\n",
              "      <td>Oct-24</td>\n",
              "      <td>Hyundai Verna VTVT 1.6 AT SX Option, 2019, Petrol</td>\n",
              "      <td>₹ 8,55,000</td>\n",
              "    </tr>\n",
              "    <tr>\n",
              "      <th>9581</th>\n",
              "      <td>Hyundai</td>\n",
              "      <td>New i20</td>\n",
              "      <td>2021</td>\n",
              "      <td>3</td>\n",
              "      <td>83,228 km</td>\n",
              "      <td>Manual</td>\n",
              "      <td>second</td>\n",
              "      <td>Petrol</td>\n",
              "      <td>Nov-24</td>\n",
              "      <td>Hyundai New i20 1.2 Asta IVT, 2021, Petrol</td>\n",
              "      <td>₹ 6,99,000</td>\n",
              "    </tr>\n",
              "  </tbody>\n",
              "</table>\n",
              "<p>9582 rows × 11 columns</p>\n",
              "</div>\n",
              "    <div class=\"colab-df-buttons\">\n",
              "\n",
              "  <div class=\"colab-df-container\">\n",
              "    <button class=\"colab-df-convert\" onclick=\"convertToInteractive('df-82da9e67-4c80-4a79-961b-32b1d2e4259b')\"\n",
              "            title=\"Convert this dataframe to an interactive table.\"\n",
              "            style=\"display:none;\">\n",
              "\n",
              "  <svg xmlns=\"http://www.w3.org/2000/svg\" height=\"24px\" viewBox=\"0 -960 960 960\">\n",
              "    <path d=\"M120-120v-720h720v720H120Zm60-500h600v-160H180v160Zm220 220h160v-160H400v160Zm0 220h160v-160H400v160ZM180-400h160v-160H180v160Zm440 0h160v-160H620v160ZM180-180h160v-160H180v160Zm440 0h160v-160H620v160Z\"/>\n",
              "  </svg>\n",
              "    </button>\n",
              "\n",
              "  <style>\n",
              "    .colab-df-container {\n",
              "      display:flex;\n",
              "      gap: 12px;\n",
              "    }\n",
              "\n",
              "    .colab-df-convert {\n",
              "      background-color: #E8F0FE;\n",
              "      border: none;\n",
              "      border-radius: 50%;\n",
              "      cursor: pointer;\n",
              "      display: none;\n",
              "      fill: #1967D2;\n",
              "      height: 32px;\n",
              "      padding: 0 0 0 0;\n",
              "      width: 32px;\n",
              "    }\n",
              "\n",
              "    .colab-df-convert:hover {\n",
              "      background-color: #E2EBFA;\n",
              "      box-shadow: 0px 1px 2px rgba(60, 64, 67, 0.3), 0px 1px 3px 1px rgba(60, 64, 67, 0.15);\n",
              "      fill: #174EA6;\n",
              "    }\n",
              "\n",
              "    .colab-df-buttons div {\n",
              "      margin-bottom: 4px;\n",
              "    }\n",
              "\n",
              "    [theme=dark] .colab-df-convert {\n",
              "      background-color: #3B4455;\n",
              "      fill: #D2E3FC;\n",
              "    }\n",
              "\n",
              "    [theme=dark] .colab-df-convert:hover {\n",
              "      background-color: #434B5C;\n",
              "      box-shadow: 0px 1px 3px 1px rgba(0, 0, 0, 0.15);\n",
              "      filter: drop-shadow(0px 1px 2px rgba(0, 0, 0, 0.3));\n",
              "      fill: #FFFFFF;\n",
              "    }\n",
              "  </style>\n",
              "\n",
              "    <script>\n",
              "      const buttonEl =\n",
              "        document.querySelector('#df-82da9e67-4c80-4a79-961b-32b1d2e4259b button.colab-df-convert');\n",
              "      buttonEl.style.display =\n",
              "        google.colab.kernel.accessAllowed ? 'block' : 'none';\n",
              "\n",
              "      async function convertToInteractive(key) {\n",
              "        const element = document.querySelector('#df-82da9e67-4c80-4a79-961b-32b1d2e4259b');\n",
              "        const dataTable =\n",
              "          await google.colab.kernel.invokeFunction('convertToInteractive',\n",
              "                                                    [key], {});\n",
              "        if (!dataTable) return;\n",
              "\n",
              "        const docLinkHtml = 'Like what you see? Visit the ' +\n",
              "          '<a target=\"_blank\" href=https://colab.research.google.com/notebooks/data_table.ipynb>data table notebook</a>'\n",
              "          + ' to learn more about interactive tables.';\n",
              "        element.innerHTML = '';\n",
              "        dataTable['output_type'] = 'display_data';\n",
              "        await google.colab.output.renderOutput(dataTable, element);\n",
              "        const docLink = document.createElement('div');\n",
              "        docLink.innerHTML = docLinkHtml;\n",
              "        element.appendChild(docLink);\n",
              "      }\n",
              "    </script>\n",
              "  </div>\n",
              "\n",
              "\n",
              "<div id=\"df-73619613-1887-4a9e-a296-395da14aa4c9\">\n",
              "  <button class=\"colab-df-quickchart\" onclick=\"quickchart('df-73619613-1887-4a9e-a296-395da14aa4c9')\"\n",
              "            title=\"Suggest charts\"\n",
              "            style=\"display:none;\">\n",
              "\n",
              "<svg xmlns=\"http://www.w3.org/2000/svg\" height=\"24px\"viewBox=\"0 0 24 24\"\n",
              "     width=\"24px\">\n",
              "    <g>\n",
              "        <path d=\"M19 3H5c-1.1 0-2 .9-2 2v14c0 1.1.9 2 2 2h14c1.1 0 2-.9 2-2V5c0-1.1-.9-2-2-2zM9 17H7v-7h2v7zm4 0h-2V7h2v10zm4 0h-2v-4h2v4z\"/>\n",
              "    </g>\n",
              "</svg>\n",
              "  </button>\n",
              "\n",
              "<style>\n",
              "  .colab-df-quickchart {\n",
              "      --bg-color: #E8F0FE;\n",
              "      --fill-color: #1967D2;\n",
              "      --hover-bg-color: #E2EBFA;\n",
              "      --hover-fill-color: #174EA6;\n",
              "      --disabled-fill-color: #AAA;\n",
              "      --disabled-bg-color: #DDD;\n",
              "  }\n",
              "\n",
              "  [theme=dark] .colab-df-quickchart {\n",
              "      --bg-color: #3B4455;\n",
              "      --fill-color: #D2E3FC;\n",
              "      --hover-bg-color: #434B5C;\n",
              "      --hover-fill-color: #FFFFFF;\n",
              "      --disabled-bg-color: #3B4455;\n",
              "      --disabled-fill-color: #666;\n",
              "  }\n",
              "\n",
              "  .colab-df-quickchart {\n",
              "    background-color: var(--bg-color);\n",
              "    border: none;\n",
              "    border-radius: 50%;\n",
              "    cursor: pointer;\n",
              "    display: none;\n",
              "    fill: var(--fill-color);\n",
              "    height: 32px;\n",
              "    padding: 0;\n",
              "    width: 32px;\n",
              "  }\n",
              "\n",
              "  .colab-df-quickchart:hover {\n",
              "    background-color: var(--hover-bg-color);\n",
              "    box-shadow: 0 1px 2px rgba(60, 64, 67, 0.3), 0 1px 3px 1px rgba(60, 64, 67, 0.15);\n",
              "    fill: var(--button-hover-fill-color);\n",
              "  }\n",
              "\n",
              "  .colab-df-quickchart-complete:disabled,\n",
              "  .colab-df-quickchart-complete:disabled:hover {\n",
              "    background-color: var(--disabled-bg-color);\n",
              "    fill: var(--disabled-fill-color);\n",
              "    box-shadow: none;\n",
              "  }\n",
              "\n",
              "  .colab-df-spinner {\n",
              "    border: 2px solid var(--fill-color);\n",
              "    border-color: transparent;\n",
              "    border-bottom-color: var(--fill-color);\n",
              "    animation:\n",
              "      spin 1s steps(1) infinite;\n",
              "  }\n",
              "\n",
              "  @keyframes spin {\n",
              "    0% {\n",
              "      border-color: transparent;\n",
              "      border-bottom-color: var(--fill-color);\n",
              "      border-left-color: var(--fill-color);\n",
              "    }\n",
              "    20% {\n",
              "      border-color: transparent;\n",
              "      border-left-color: var(--fill-color);\n",
              "      border-top-color: var(--fill-color);\n",
              "    }\n",
              "    30% {\n",
              "      border-color: transparent;\n",
              "      border-left-color: var(--fill-color);\n",
              "      border-top-color: var(--fill-color);\n",
              "      border-right-color: var(--fill-color);\n",
              "    }\n",
              "    40% {\n",
              "      border-color: transparent;\n",
              "      border-right-color: var(--fill-color);\n",
              "      border-top-color: var(--fill-color);\n",
              "    }\n",
              "    60% {\n",
              "      border-color: transparent;\n",
              "      border-right-color: var(--fill-color);\n",
              "    }\n",
              "    80% {\n",
              "      border-color: transparent;\n",
              "      border-right-color: var(--fill-color);\n",
              "      border-bottom-color: var(--fill-color);\n",
              "    }\n",
              "    90% {\n",
              "      border-color: transparent;\n",
              "      border-bottom-color: var(--fill-color);\n",
              "    }\n",
              "  }\n",
              "</style>\n",
              "\n",
              "  <script>\n",
              "    async function quickchart(key) {\n",
              "      const quickchartButtonEl =\n",
              "        document.querySelector('#' + key + ' button');\n",
              "      quickchartButtonEl.disabled = true;  // To prevent multiple clicks.\n",
              "      quickchartButtonEl.classList.add('colab-df-spinner');\n",
              "      try {\n",
              "        const charts = await google.colab.kernel.invokeFunction(\n",
              "            'suggestCharts', [key], {});\n",
              "      } catch (error) {\n",
              "        console.error('Error during call to suggestCharts:', error);\n",
              "      }\n",
              "      quickchartButtonEl.classList.remove('colab-df-spinner');\n",
              "      quickchartButtonEl.classList.add('colab-df-quickchart-complete');\n",
              "    }\n",
              "    (() => {\n",
              "      let quickchartButtonEl =\n",
              "        document.querySelector('#df-73619613-1887-4a9e-a296-395da14aa4c9 button');\n",
              "      quickchartButtonEl.style.display =\n",
              "        google.colab.kernel.accessAllowed ? 'block' : 'none';\n",
              "    })();\n",
              "  </script>\n",
              "</div>\n",
              "\n",
              "  <div id=\"id_5a617369-3171-46bb-8bfd-271606c9c346\">\n",
              "    <style>\n",
              "      .colab-df-generate {\n",
              "        background-color: #E8F0FE;\n",
              "        border: none;\n",
              "        border-radius: 50%;\n",
              "        cursor: pointer;\n",
              "        display: none;\n",
              "        fill: #1967D2;\n",
              "        height: 32px;\n",
              "        padding: 0 0 0 0;\n",
              "        width: 32px;\n",
              "      }\n",
              "\n",
              "      .colab-df-generate:hover {\n",
              "        background-color: #E2EBFA;\n",
              "        box-shadow: 0px 1px 2px rgba(60, 64, 67, 0.3), 0px 1px 3px 1px rgba(60, 64, 67, 0.15);\n",
              "        fill: #174EA6;\n",
              "      }\n",
              "\n",
              "      [theme=dark] .colab-df-generate {\n",
              "        background-color: #3B4455;\n",
              "        fill: #D2E3FC;\n",
              "      }\n",
              "\n",
              "      [theme=dark] .colab-df-generate:hover {\n",
              "        background-color: #434B5C;\n",
              "        box-shadow: 0px 1px 3px 1px rgba(0, 0, 0, 0.15);\n",
              "        filter: drop-shadow(0px 1px 2px rgba(0, 0, 0, 0.3));\n",
              "        fill: #FFFFFF;\n",
              "      }\n",
              "    </style>\n",
              "    <button class=\"colab-df-generate\" onclick=\"generateWithVariable('df')\"\n",
              "            title=\"Generate code using this dataframe.\"\n",
              "            style=\"display:none;\">\n",
              "\n",
              "  <svg xmlns=\"http://www.w3.org/2000/svg\" height=\"24px\"viewBox=\"0 0 24 24\"\n",
              "       width=\"24px\">\n",
              "    <path d=\"M7,19H8.4L18.45,9,17,7.55,7,17.6ZM5,21V16.75L18.45,3.32a2,2,0,0,1,2.83,0l1.4,1.43a1.91,1.91,0,0,1,.58,1.4,1.91,1.91,0,0,1-.58,1.4L9.25,21ZM18.45,9,17,7.55Zm-12,3A5.31,5.31,0,0,0,4.9,8.1,5.31,5.31,0,0,0,1,6.5,5.31,5.31,0,0,0,4.9,4.9,5.31,5.31,0,0,0,6.5,1,5.31,5.31,0,0,0,8.1,4.9,5.31,5.31,0,0,0,12,6.5,5.46,5.46,0,0,0,6.5,12Z\"/>\n",
              "  </svg>\n",
              "    </button>\n",
              "    <script>\n",
              "      (() => {\n",
              "      const buttonEl =\n",
              "        document.querySelector('#id_5a617369-3171-46bb-8bfd-271606c9c346 button.colab-df-generate');\n",
              "      buttonEl.style.display =\n",
              "        google.colab.kernel.accessAllowed ? 'block' : 'none';\n",
              "\n",
              "      buttonEl.onclick = () => {\n",
              "        google.colab.notebook.generateWithVariable('df');\n",
              "      }\n",
              "      })();\n",
              "    </script>\n",
              "  </div>\n",
              "\n",
              "    </div>\n",
              "  </div>\n"
            ],
            "application/vnd.google.colaboratory.intrinsic+json": {
              "type": "dataframe",
              "variable_name": "df",
              "summary": "{\n  \"name\": \"df\",\n  \"rows\": 9582,\n  \"fields\": [\n    {\n      \"column\": \"Brand\",\n      \"properties\": {\n        \"dtype\": \"category\",\n        \"num_unique_values\": 39,\n        \"samples\": [\n          \"Bajaj\",\n          \"Bentley\",\n          \"BMW\"\n        ],\n        \"semantic_type\": \"\",\n        \"description\": \"\"\n      }\n    },\n    {\n      \"column\": \"model\",\n      \"properties\": {\n        \"dtype\": \"category\",\n        \"num_unique_values\": 400,\n        \"samples\": [\n          \"Fluidic Verna\",\n          \"Meridian\",\n          \"Verna\"\n        ],\n        \"semantic_type\": \"\",\n        \"description\": \"\"\n      }\n    },\n    {\n      \"column\": \"Year\",\n      \"properties\": {\n        \"dtype\": \"number\",\n        \"std\": 4,\n        \"min\": 1986,\n        \"max\": 2024,\n        \"num_unique_values\": 32,\n        \"samples\": [\n          1996,\n          2022,\n          2002\n        ],\n        \"semantic_type\": \"\",\n        \"description\": \"\"\n      }\n    },\n    {\n      \"column\": \"Age\",\n      \"properties\": {\n        \"dtype\": \"number\",\n        \"std\": 4,\n        \"min\": 0,\n        \"max\": 38,\n        \"num_unique_values\": 32,\n        \"samples\": [\n          28,\n          2,\n          22\n        ],\n        \"semantic_type\": \"\",\n        \"description\": \"\"\n      }\n    },\n    {\n      \"column\": \"kmDriven\",\n      \"properties\": {\n        \"dtype\": \"category\",\n        \"num_unique_values\": 1910,\n        \"samples\": [\n          \"72900.0 km\",\n          \"37,000 km\",\n          \"47,448 km\"\n        ],\n        \"semantic_type\": \"\",\n        \"description\": \"\"\n      }\n    },\n    {\n      \"column\": \"Transmission\",\n      \"properties\": {\n        \"dtype\": \"category\",\n        \"num_unique_values\": 2,\n        \"samples\": [\n          \"Automatic\",\n          \"Manual\"\n        ],\n        \"semantic_type\": \"\",\n        \"description\": \"\"\n      }\n    },\n    {\n      \"column\": \"Owner\",\n      \"properties\": {\n        \"dtype\": \"category\",\n        \"num_unique_values\": 2,\n        \"samples\": [\n          \"first\",\n          \"second\"\n        ],\n        \"semantic_type\": \"\",\n        \"description\": \"\"\n      }\n    },\n    {\n      \"column\": \"FuelType\",\n      \"properties\": {\n        \"dtype\": \"category\",\n        \"num_unique_values\": 3,\n        \"samples\": [\n          \"Petrol\",\n          \"Diesel\"\n        ],\n        \"semantic_type\": \"\",\n        \"description\": \"\"\n      }\n    },\n    {\n      \"column\": \"PostedDate\",\n      \"properties\": {\n        \"dtype\": \"category\",\n        \"num_unique_values\": 12,\n        \"samples\": [\n          \"Dec-23\",\n          \"Feb-24\"\n        ],\n        \"semantic_type\": \"\",\n        \"description\": \"\"\n      }\n    },\n    {\n      \"column\": \"AdditionInfo\",\n      \"properties\": {\n        \"dtype\": \"string\",\n        \"num_unique_values\": 7307,\n        \"samples\": [\n          \"Hyundai Creta S 1.5 Diesel, 2018, Diesel\",\n          \"Honda CR-V, 2.4L 4WD AT, 2011, Diesel, Automatic\"\n        ],\n        \"semantic_type\": \"\",\n        \"description\": \"\"\n      }\n    },\n    {\n      \"column\": \"AskPrice\",\n      \"properties\": {\n        \"dtype\": \"category\",\n        \"num_unique_values\": 1330,\n        \"samples\": [\n          \"\\u20b9 6,84,000\",\n          \"\\u20b9 27,40,000\"\n        ],\n        \"semantic_type\": \"\",\n        \"description\": \"\"\n      }\n    }\n  ]\n}"
            }
          },
          "metadata": {},
          "execution_count": 5
        }
      ],
      "source": [
        "df"
      ]
    },
    {
      "cell_type": "markdown",
      "metadata": {
        "id": "ao5YsGOJ-OdW"
      },
      "source": [
        "#### Ringkasan Gathering data"
      ]
    },
    {
      "cell_type": "code",
      "execution_count": 6,
      "metadata": {
        "colab": {
          "base_uri": "https://localhost:8080/"
        },
        "id": "LLdt0gsAmKO0",
        "outputId": "0c19001e-94ca-4c75-c69f-a226b9a06042"
      },
      "outputs": [
        {
          "output_type": "stream",
          "name": "stdout",
          "text": [
            "Data Gathering Summary:\n",
            "Total records gathered: 9582\n",
            "Total columns gathered: 11\n"
          ]
        }
      ],
      "source": [
        "    print(\"Data Gathering Summary:\")\n",
        "    print(f\"Total records gathered: {len(df)}\")\n",
        "    print(f\"Total columns gathered: {len(df.columns)}\")"
      ]
    },
    {
      "cell_type": "markdown",
      "metadata": {
        "id": "4ri0ug4cm-f4"
      },
      "source": [
        "## Assessing Data"
      ]
    },
    {
      "cell_type": "markdown",
      "metadata": {
        "id": "KpNg_Qz59xEz"
      },
      "source": [
        "#### Menampilkan informasi awal dan memfilter 3 tahun terakhir"
      ]
    },
    {
      "cell_type": "code",
      "execution_count": 7,
      "metadata": {
        "colab": {
          "base_uri": "https://localhost:8080/"
        },
        "id": "vKi-asnzqLgD",
        "outputId": "cadcd51b-5f4d-4cf0-8351-b926a758f48d"
      },
      "outputs": [
        {
          "output_type": "stream",
          "name": "stdout",
          "text": [
            "Info dataset:\n",
            "<class 'pandas.core.frame.DataFrame'>\n",
            "RangeIndex: 9582 entries, 0 to 9581\n",
            "Data columns (total 11 columns):\n",
            " #   Column        Non-Null Count  Dtype \n",
            "---  ------        --------------  ----- \n",
            " 0   Brand         9582 non-null   object\n",
            " 1   model         9582 non-null   object\n",
            " 2   Year          9582 non-null   int64 \n",
            " 3   Age           9582 non-null   int64 \n",
            " 4   kmDriven      9535 non-null   object\n",
            " 5   Transmission  9582 non-null   object\n",
            " 6   Owner         9582 non-null   object\n",
            " 7   FuelType      9582 non-null   object\n",
            " 8   PostedDate    9582 non-null   object\n",
            " 9   AdditionInfo  9582 non-null   object\n",
            " 10  AskPrice      9582 non-null   object\n",
            "dtypes: int64(2), object(9)\n",
            "memory usage: 823.6+ KB\n",
            "None\n"
          ]
        }
      ],
      "source": [
        "print(\"Info dataset:\")\n",
        "print(df.info())\n",
        "current_year = 2024\n",
        "data_filtered = df[df['Year'] >= current_year - 3]"
      ]
    },
    {
      "cell_type": "markdown",
      "metadata": {
        "id": "6-0THKNN-ai1"
      },
      "source": [
        "#### Konvert tahun ke Datetime dan Filter 3 tahun terakhir"
      ]
    },
    {
      "cell_type": "code",
      "execution_count": 8,
      "metadata": {
        "id": "q51H01SpZOfk"
      },
      "outputs": [],
      "source": [
        "df['Year'] = pd.to_datetime(df['Year'], format='%Y')\n",
        "current_year = pd.Timestamp.now().year\n",
        "df = df[df['Year'].dt.year >= current_year - 3]"
      ]
    },
    {
      "cell_type": "markdown",
      "metadata": {
        "id": "ZPkY0r8Cm-f5"
      },
      "source": [
        "#### Pertama saya memastikan data bersih dan tidak ada nilai yang hilang. Menggunakan isnull untuk melakukan penegcekan"
      ]
    },
    {
      "cell_type": "code",
      "execution_count": 9,
      "metadata": {
        "colab": {
          "base_uri": "https://localhost:8080/",
          "height": 429
        },
        "id": "cWiBmnw5m-f6",
        "outputId": "86e38638-150b-452b-cb90-4a6dc7ad4a60"
      },
      "outputs": [
        {
          "output_type": "execute_result",
          "data": {
            "text/plain": [
              "Brand           0\n",
              "model           0\n",
              "Year            0\n",
              "Age             0\n",
              "kmDriven        6\n",
              "Transmission    0\n",
              "Owner           0\n",
              "FuelType        0\n",
              "PostedDate      0\n",
              "AdditionInfo    0\n",
              "AskPrice        0\n",
              "dtype: int64"
            ],
            "text/html": [
              "<div>\n",
              "<style scoped>\n",
              "    .dataframe tbody tr th:only-of-type {\n",
              "        vertical-align: middle;\n",
              "    }\n",
              "\n",
              "    .dataframe tbody tr th {\n",
              "        vertical-align: top;\n",
              "    }\n",
              "\n",
              "    .dataframe thead th {\n",
              "        text-align: right;\n",
              "    }\n",
              "</style>\n",
              "<table border=\"1\" class=\"dataframe\">\n",
              "  <thead>\n",
              "    <tr style=\"text-align: right;\">\n",
              "      <th></th>\n",
              "      <th>0</th>\n",
              "    </tr>\n",
              "  </thead>\n",
              "  <tbody>\n",
              "    <tr>\n",
              "      <th>Brand</th>\n",
              "      <td>0</td>\n",
              "    </tr>\n",
              "    <tr>\n",
              "      <th>model</th>\n",
              "      <td>0</td>\n",
              "    </tr>\n",
              "    <tr>\n",
              "      <th>Year</th>\n",
              "      <td>0</td>\n",
              "    </tr>\n",
              "    <tr>\n",
              "      <th>Age</th>\n",
              "      <td>0</td>\n",
              "    </tr>\n",
              "    <tr>\n",
              "      <th>kmDriven</th>\n",
              "      <td>6</td>\n",
              "    </tr>\n",
              "    <tr>\n",
              "      <th>Transmission</th>\n",
              "      <td>0</td>\n",
              "    </tr>\n",
              "    <tr>\n",
              "      <th>Owner</th>\n",
              "      <td>0</td>\n",
              "    </tr>\n",
              "    <tr>\n",
              "      <th>FuelType</th>\n",
              "      <td>0</td>\n",
              "    </tr>\n",
              "    <tr>\n",
              "      <th>PostedDate</th>\n",
              "      <td>0</td>\n",
              "    </tr>\n",
              "    <tr>\n",
              "      <th>AdditionInfo</th>\n",
              "      <td>0</td>\n",
              "    </tr>\n",
              "    <tr>\n",
              "      <th>AskPrice</th>\n",
              "      <td>0</td>\n",
              "    </tr>\n",
              "  </tbody>\n",
              "</table>\n",
              "</div><br><label><b>dtype:</b> int64</label>"
            ]
          },
          "metadata": {},
          "execution_count": 9
        }
      ],
      "source": [
        "df.isnull().sum()"
      ]
    },
    {
      "cell_type": "markdown",
      "metadata": {
        "id": "6k7ntbF96MlC"
      },
      "source": [
        "#### Selanjutnya mengubah kolom 'AskPrice' menjadi numerik dan menghitung kuartilnya untuk analisis harga."
      ]
    },
    {
      "cell_type": "code",
      "execution_count": 10,
      "metadata": {
        "colab": {
          "base_uri": "https://localhost:8080/"
        },
        "id": "YTZ_Konenpe-",
        "outputId": "557ec249-bd38-4fee-9a60-538fbb940c08"
      },
      "outputs": [
        {
          "output_type": "stream",
          "name": "stderr",
          "text": [
            "<ipython-input-10-65d371695b70>:1: SettingWithCopyWarning: \n",
            "A value is trying to be set on a copy of a slice from a DataFrame.\n",
            "Try using .loc[row_indexer,col_indexer] = value instead\n",
            "\n",
            "See the caveats in the documentation: https://pandas.pydata.org/pandas-docs/stable/user_guide/indexing.html#returning-a-view-versus-a-copy\n",
            "  df['AskPrice'] = pd.to_numeric(df['AskPrice'].str.replace('₹', '').str.replace(',', ''), errors='coerce')\n"
          ]
        }
      ],
      "source": [
        "df['AskPrice'] = pd.to_numeric(df['AskPrice'].str.replace('₹', '').str.replace(',', ''), errors='coerce')\n",
        "Q1 = df['AskPrice'].quantile(0.25)\n",
        "Q3 = df['AskPrice'].quantile(0.75)\n",
        "IQR = Q3 - Q1"
      ]
    },
    {
      "cell_type": "markdown",
      "metadata": {
        "id": "Zy-dC_Mxm-f7"
      },
      "source": [
        "## Cleaning Data"
      ]
    },
    {
      "cell_type": "markdown",
      "metadata": {
        "id": "CQUfQwAzm-f6"
      },
      "source": [
        "#### Melakukan pengecekan jika ada data yang duplicated"
      ]
    },
    {
      "cell_type": "code",
      "execution_count": 11,
      "metadata": {
        "colab": {
          "base_uri": "https://localhost:8080/"
        },
        "id": "88k_7aKYm-f7",
        "outputId": "aed58fb3-2366-4e89-d3b1-f51afdf64521"
      },
      "outputs": [
        {
          "output_type": "stream",
          "name": "stdout",
          "text": [
            "76\n"
          ]
        }
      ],
      "source": [
        "print(df.duplicated().sum())"
      ]
    },
    {
      "cell_type": "markdown",
      "metadata": {
        "id": "qLL0GSQE6rFO"
      },
      "source": [
        "#### Menghapus baris duplikat dalam DataFrame berdasarkan kolom 'kmDriven', dengan hanya mempertahankan baris pertama yang memiliki nilai unik."
      ]
    },
    {
      "cell_type": "code",
      "execution_count": 12,
      "metadata": {
        "colab": {
          "base_uri": "https://localhost:8080/"
        },
        "id": "gUhC6TKcoUz1",
        "outputId": "c90a3274-5f8c-4137-844f-0ecb54520a61"
      },
      "outputs": [
        {
          "output_type": "stream",
          "name": "stderr",
          "text": [
            "<ipython-input-12-1b0ac487e109>:1: SettingWithCopyWarning: \n",
            "A value is trying to be set on a copy of a slice from a DataFrame\n",
            "\n",
            "See the caveats in the documentation: https://pandas.pydata.org/pandas-docs/stable/user_guide/indexing.html#returning-a-view-versus-a-copy\n",
            "  df.drop_duplicates(subset=['kmDriven'], keep='first', inplace=True)\n"
          ]
        }
      ],
      "source": [
        "df.drop_duplicates(subset=['kmDriven'], keep='first', inplace=True)"
      ]
    },
    {
      "cell_type": "markdown",
      "metadata": {
        "id": "lVjaCPEQ6w8v"
      },
      "source": [
        "#### Periksa kembali jumlah duplikat di kolom 'kmDriven'"
      ]
    },
    {
      "cell_type": "code",
      "execution_count": 13,
      "metadata": {
        "colab": {
          "base_uri": "https://localhost:8080/"
        },
        "id": "3AvnUJvboW-w",
        "outputId": "8cd503c8-740b-40b6-8301-eeefc88a7c80"
      },
      "outputs": [
        {
          "output_type": "stream",
          "name": "stdout",
          "text": [
            "0\n"
          ]
        }
      ],
      "source": [
        "print(df.duplicated(subset=['kmDriven']).sum())"
      ]
    },
    {
      "cell_type": "markdown",
      "metadata": {
        "id": "c1-uPwGU9F48"
      },
      "source": [
        "#### Memilih kolom relevan dan menangani nilai null"
      ]
    },
    {
      "cell_type": "code",
      "execution_count": 14,
      "metadata": {
        "id": "34ZIwe8ZrVkj"
      },
      "outputs": [],
      "source": [
        "data_filtered = data_filtered[['FuelType', 'AskPrice']].dropna()"
      ]
    },
    {
      "cell_type": "markdown",
      "metadata": {
        "id": "y26Vs2dS7ilA"
      },
      "source": [
        "# Data Availability Checking"
      ]
    },
    {
      "cell_type": "code",
      "execution_count": 15,
      "metadata": {
        "colab": {
          "base_uri": "https://localhost:8080/"
        },
        "id": "kSv_JZ5mrYRa",
        "outputId": "cef329d2-9d83-454b-aaa3-b7bfcc6078f5"
      },
      "outputs": [
        {
          "output_type": "stream",
          "name": "stdout",
          "text": [
            "\n",
            "Jumlah nilai null per kolom:\n",
            "FuelType    0\n",
            "AskPrice    0\n",
            "dtype: int64\n"
          ]
        }
      ],
      "source": [
        "print(\"\\nJumlah nilai null per kolom:\")\n",
        "print(data_filtered.isnull().sum())\n"
      ]
    },
    {
      "cell_type": "markdown",
      "metadata": {
        "id": "42iYjBxsI01l"
      },
      "source": [
        "#### Konvert AskPrice ke Numerik"
      ]
    },
    {
      "cell_type": "code",
      "execution_count": 16,
      "metadata": {
        "id": "A14zyLsNIxaw"
      },
      "outputs": [],
      "source": [
        "data_filtered['AskPrice'] = pd.to_numeric(data_filtered['AskPrice'].str.replace('₹', '').str.replace(',', ''), errors='coerce')"
      ]
    },
    {
      "cell_type": "markdown",
      "metadata": {
        "id": "wzxNDo2a7uIG"
      },
      "source": [
        "# Descriptive Statistics"
      ]
    },
    {
      "cell_type": "code",
      "execution_count": 17,
      "metadata": {
        "colab": {
          "base_uri": "https://localhost:8080/"
        },
        "id": "oUIOOQK5a8CG",
        "outputId": "b6d6f5b6-e8c5-4892-f66a-ec62b2429323"
      },
      "outputs": [
        {
          "output_type": "stream",
          "name": "stdout",
          "text": [
            "\n",
            "Descriptive Statistics:\n",
            "            count          mean           std       min        25%        50%  \\\n",
            "FuelType                                                                        \n",
            "Diesel      161.0  2.534321e+06  2.087790e+06  590000.0  1350000.0  1950000.0   \n",
            "Hybrid/CNG   91.0  1.070184e+06  1.168446e+06   65000.0   550260.5   710000.0   \n",
            "Petrol      269.0  1.635412e+06  2.502909e+06  170000.0   690000.0  1065000.0   \n",
            "\n",
            "                  75%         max  \n",
            "FuelType                           \n",
            "Diesel      3100000.0  16500000.0  \n",
            "Hybrid/CNG  1040000.0   8000000.0  \n",
            "Petrol      1495000.0  24500000.0  \n"
          ]
        }
      ],
      "source": [
        "print(\"\\nDescriptive Statistics:\")\n",
        "print(df.groupby('FuelType')['AskPrice'].describe())"
      ]
    },
    {
      "cell_type": "code",
      "execution_count": 18,
      "metadata": {
        "colab": {
          "base_uri": "https://localhost:8080/"
        },
        "id": "F3Zu0yCjraaY",
        "outputId": "ae12bd91-ce6d-4096-ec41-b89f55f90a35"
      },
      "outputs": [
        {
          "output_type": "stream",
          "name": "stdout",
          "text": [
            "\n",
            "Statistik deskriptif:\n",
            "           AskPrice\n",
            "count  1.593000e+03\n",
            "mean   1.935886e+06\n",
            "std    2.435900e+06\n",
            "min    1.850000e+04\n",
            "25%    7.450000e+05\n",
            "50%    1.190000e+06\n",
            "75%    1.875000e+06\n",
            "max    2.775000e+07\n"
          ]
        }
      ],
      "source": [
        "print(\"\\nStatistik deskriptif:\")\n",
        "print(data_filtered.describe())"
      ]
    },
    {
      "cell_type": "markdown",
      "metadata": {
        "id": "Adabwco9m-f8"
      },
      "source": [
        "# Exploratory Data Analysis (EDA)"
      ]
    },
    {
      "cell_type": "code",
      "execution_count": 19,
      "metadata": {
        "colab": {
          "base_uri": "https://localhost:8080/"
        },
        "id": "FU4pU4fJrpXv",
        "outputId": "7c36e839-ae31-4850-f919-0f10f372effd"
      },
      "outputs": [
        {
          "output_type": "stream",
          "name": "stdout",
          "text": [
            "\n",
            "Distribusi data berdasarkan FuelType:\n",
            "FuelType\n",
            "Petrol        768\n",
            "Diesel        474\n",
            "Hybrid/CNG    351\n",
            "Name: count, dtype: int64\n"
          ]
        }
      ],
      "source": [
        "print(\"\\nDistribusi data berdasarkan FuelType:\")\n",
        "print(data_filtered['FuelType'].value_counts())"
      ]
    },
    {
      "cell_type": "markdown",
      "metadata": {
        "id": "VRBXF4YEKOFJ"
      },
      "source": [
        "#### Memfilter data harga mobil bekas"
      ]
    },
    {
      "cell_type": "code",
      "execution_count": 20,
      "metadata": {
        "id": "_ZEzpjeAHiz2"
      },
      "outputs": [],
      "source": [
        "Q1 = df['AskPrice'].quantile(0.25)\n",
        "Q3 = df['AskPrice'].quantile(0.75)\n",
        "IQR = Q3 - Q1\n",
        "\n",
        "lower_bound = Q1 - 1.5 * IQR\n",
        "upper_bound = Q3 + 1.5 * IQR\n",
        "\n",
        "df_filtered = df[(df['AskPrice'] >= lower_bound) & (df['AskPrice'] <= upper_bound)]"
      ]
    },
    {
      "cell_type": "markdown",
      "source": [
        "#### Membuat kolom baru bernama AskPrice_log yang berisi nilai logaritma dari kolom AskPrice untuk kemungkinan memperbaiki analisis data harga mobil"
      ],
      "metadata": {
        "id": "UW3Mxx8t7zKq"
      }
    },
    {
      "cell_type": "code",
      "execution_count": 21,
      "metadata": {
        "colab": {
          "base_uri": "https://localhost:8080/"
        },
        "id": "nOxhdzMAHk-Q",
        "outputId": "c3a5672c-570b-471a-d1a6-8c21649907ba"
      },
      "outputs": [
        {
          "output_type": "stream",
          "name": "stderr",
          "text": [
            "<ipython-input-21-334216d5d21d>:1: SettingWithCopyWarning: \n",
            "A value is trying to be set on a copy of a slice from a DataFrame.\n",
            "Try using .loc[row_indexer,col_indexer] = value instead\n",
            "\n",
            "See the caveats in the documentation: https://pandas.pydata.org/pandas-docs/stable/user_guide/indexing.html#returning-a-view-versus-a-copy\n",
            "  df['AskPrice_log'] = np.log1p(df['AskPrice'])\n"
          ]
        }
      ],
      "source": [
        "df['AskPrice_log'] = np.log1p(df['AskPrice'])\n"
      ]
    },
    {
      "cell_type": "markdown",
      "source": [
        "#### Tren rata-rata harga mobil bekas berdasarkan jenis bahan bakar selama beberapa tahun"
      ],
      "metadata": {
        "id": "5cxmsX_D8JEO"
      }
    },
    {
      "cell_type": "code",
      "execution_count": 22,
      "metadata": {
        "colab": {
          "base_uri": "https://localhost:8080/",
          "height": 651
        },
        "id": "nLPBtncUlR2G",
        "outputId": "7d4b990e-0fca-4687-fb94-894f989f9e3c"
      },
      "outputs": [
        {
          "output_type": "stream",
          "name": "stderr",
          "text": [
            "<ipython-input-22-17317d0ebac7>:2: FutureWarning: \n",
            "\n",
            "The `ci` parameter is deprecated. Use `errorbar=None` for the same effect.\n",
            "\n",
            "  sns.lineplot(x='Year', y='AskPrice', hue='FuelType', data=df, ci=None)\n"
          ]
        },
        {
          "output_type": "display_data",
          "data": {
            "text/plain": [
              "<Figure size 1000x600 with 1 Axes>"
            ],
            "image/png": "[encoded data removed]"
          },
          "metadata": {}
        }
      ],
      "source": [
        "plt.figure(figsize=(10, 6))\n",
        "sns.lineplot(x='Year', y='AskPrice', hue='FuelType', data=df, ci=None)\n",
        "plt.title('Average Asking Price Trend by Fuel Type')\n",
        "plt.xlabel('Year')\n",
        "_ = plt.ylabel('Average Asking Price')"
      ]
    },
    {
      "cell_type": "markdown",
      "metadata": {
        "id": "goNuHgBY_EQT"
      },
      "source": [
        " Tren harga mobil bekas dari tahun ke tahun"
      ]
    },
    {
      "cell_type": "code",
      "execution_count": 23,
      "metadata": {
        "colab": {
          "base_uri": "https://localhost:8080/",
          "height": 651
        },
        "id": "RklbOT2zwzsZ",
        "outputId": "94b873fc-461e-4a42-bb7b-af06c04a6582"
      },
      "outputs": [
        {
          "output_type": "stream",
          "name": "stderr",
          "text": [
            "<ipython-input-23-037b050beca4>:2: FutureWarning: \n",
            "\n",
            "The `ci` parameter is deprecated. Use `errorbar=None` for the same effect.\n",
            "\n",
            "  sns.lineplot(x='Year', y='AskPrice', data=df, ci=None)\n"
          ]
        },
        {
          "output_type": "display_data",
          "data": {
            "text/plain": [
              "<Figure size 1000x600 with 1 Axes>"
            ],
            "image/png": "[encoded data removed]"
          },
          "metadata": {}
        }
      ],
      "source": [
        "plt.figure(figsize=(10, 6))\n",
        "sns.lineplot(x='Year', y='AskPrice', data=df, ci=None)\n",
        "plt.title('Trend of Asking Price Over Years')\n",
        "plt.xlabel('Year')\n",
        "_ = plt.ylabel('Average Asking Price')"
      ]
    },
    {
      "cell_type": "markdown",
      "metadata": {
        "id": "nX96apbr-0mL"
      },
      "source": [
        "### Melihat korelasi antar fitur, semakin mendekati 1 semakin kuat hubungannya"
      ]
    },
    {
      "cell_type": "code",
      "execution_count": 24,
      "metadata": {
        "colab": {
          "base_uri": "https://localhost:8080/"
        },
        "id": "fj-_xavEt5Xb",
        "outputId": "3d4f8d08-5ae9-4539-b621-a4548efb3c50"
      },
      "outputs": [
        {
          "output_type": "stream",
          "name": "stdout",
          "text": [
            "\n",
            "Korelasi antar fitur:\n",
            "          AskPrice\n",
            "AskPrice       1.0\n"
          ]
        }
      ],
      "source": [
        "if data_filtered['AskPrice'].dtype in [np.float64, np.int64]:\n",
        "    correlation = data_filtered.select_dtypes(include=np.number).corr()\n",
        "    print(\"\\nKorelasi antar fitur:\")\n",
        "    print(correlation)"
      ]
    },
    {
      "cell_type": "code",
      "execution_count": 25,
      "metadata": {
        "id": "V8kd0CyyXuw0"
      },
      "outputs": [],
      "source": [
        "numerical_features = df.select_dtypes(include=['number'])"
      ]
    },
    {
      "cell_type": "code",
      "execution_count": 26,
      "metadata": {
        "colab": {
          "base_uri": "https://localhost:8080/",
          "height": 622
        },
        "id": "tn3eVUJrvJ7V",
        "outputId": "ab43b737-5bd9-45dc-a02e-ab511fce86cf"
      },
      "outputs": [
        {
          "output_type": "display_data",
          "data": {
            "text/plain": [
              "<Figure size 1600x700 with 2 Axes>"
            ],
            "image/png": "[encoded data removed]"
          },
          "metadata": {}
        }
      ],
      "source": [
        "corr = numerical_features.corr()\n",
        "plt.figure(figsize=(16,7))\n",
        "sns.heatmap(corr, annot=True, cmap='coolwarm')\n",
        "plt.title('Korelasi antar variabel')\n",
        "plt.show()"
      ]
    },
    {
      "cell_type": "markdown",
      "metadata": {
        "id": "FTY_F_9c_P9o"
      },
      "source": [
        "## Data Visualization"
      ]
    },
    {
      "cell_type": "markdown",
      "metadata": {
        "id": "IKzMRBw3LD0l"
      },
      "source": [
        "### Distribusi harga mobil bervariasi di setiap jenis bahan bakar."
      ]
    },
    {
      "cell_type": "code",
      "execution_count": 27,
      "metadata": {
        "colab": {
          "base_uri": "https://localhost:8080/",
          "height": 705
        },
        "id": "5p2ie-bEuKOK",
        "outputId": "92c68555-c8ec-4f77-aa8f-f312a4a914c8"
      },
      "outputs": [
        {
          "output_type": "stream",
          "name": "stderr",
          "text": [
            "<ipython-input-27-1202f2cd5432>:2: FutureWarning: \n",
            "\n",
            "Passing `palette` without assigning `hue` is deprecated and will be removed in v0.14.0. Assign the `x` variable to `hue` and set `legend=False` for the same effect.\n",
            "\n",
            "  sns.countplot(x='FuelType', data=data_filtered, palette='viridis')\n"
          ]
        },
        {
          "output_type": "display_data",
          "data": {
            "text/plain": [
              "<Figure size 800x600 with 1 Axes>"
            ],
            "image/png": "[encoded data removed]"
          },
          "metadata": {}
        }
      ],
      "source": [
        "plt.figure(figsize=(8, 6))\n",
        "sns.countplot(x='FuelType', data=data_filtered, palette='viridis')\n",
        "plt.title('Frekuensi Tipe Bahan Bakar')\n",
        "plt.xlabel('Fuel Type')\n",
        "plt.ylabel('Count')\n",
        "plt.xticks(rotation=45)\n",
        "plt.show()"
      ]
    },
    {
      "cell_type": "markdown",
      "metadata": {
        "id": "UpCgeGT9LNfK"
      },
      "source": [
        "Bahan bakar jenis Petrol memiliki frekuensi terbanyak, diikuti oleh Diesel dan Hybrid/CNG."
      ]
    },
    {
      "cell_type": "code",
      "execution_count": 28,
      "metadata": {
        "colab": {
          "base_uri": "https://localhost:8080/",
          "height": 618
        },
        "id": "zfE-HrS62_oV",
        "outputId": "4b6f33c9-b3a6-47b4-cf6d-99365233a9b6"
      },
      "outputs": [
        {
          "output_type": "display_data",
          "data": {
            "text/plain": [
              "<Figure size 1000x600 with 1 Axes>"
            ],
            "image/png": "[encoded data removed]"
          },
          "metadata": {}
        }
      ],
      "source": [
        "avg_price = data_filtered.groupby('FuelType')['AskPrice'].mean().sort_values()\n",
        "plt.figure(figsize=(10, 6))\n",
        "avg_price.plot(kind='bar', color='skyblue', edgecolor='black')\n",
        "plt.title('Rata-rata Harga Berdasarkan Tipe Bahan Bakar')\n",
        "plt.xlabel('Fuel Type')\n",
        "plt.ylabel('Rata-rata Ask Price')\n",
        "plt.xticks(rotation=45)\n",
        "plt.show()"
      ]
    },
    {
      "cell_type": "markdown",
      "metadata": {
        "id": "zRMHunIKLYOS"
      },
      "source": [
        "Rata-rata harga tertinggi terdapat pada kendaraan berbahan bakar Diesel, diikuti oleh Petrol, dan yang terendah adalah Hybrid/CNG."
      ]
    },
    {
      "cell_type": "markdown",
      "metadata": {
        "id": "2wHjzVqTJD5I"
      },
      "source": [
        "### KDE Plot untuk distribusi harga setiap tipe bahan bakar"
      ]
    },
    {
      "cell_type": "code",
      "execution_count": 29,
      "metadata": {
        "colab": {
          "base_uri": "https://localhost:8080/",
          "height": 564
        },
        "id": "NNrz8F-I3jEZ",
        "outputId": "763bb8f3-9fe9-4531-e5de-6def5b77ba89"
      },
      "outputs": [
        {
          "output_type": "display_data",
          "data": {
            "text/plain": [
              "<Figure size 1000x600 with 1 Axes>"
            ],
            "image/png": "[encoded data removed]"
          },
          "metadata": {}
        }
      ],
      "source": [
        "plt.figure(figsize=(10, 6))\n",
        "sns.kdeplot(data=data_filtered, x='AskPrice', hue='FuelType', fill=True, alpha=0.5)\n",
        "plt.title('Distribusi Harga Berdasarkan Tipe Bahan Bakar')\n",
        "plt.xlabel('Ask Price')\n",
        "plt.ylabel('Density')\n",
        "plt.show()"
      ]
    },
    {
      "cell_type": "markdown",
      "metadata": {
        "id": "03K350K1m-f9"
      },
      "source": [
        "Grafik tersebut menunjukkan distribusi harga kendaraan berdasarkan tipe bahan bakar (Diesel, Petrol, dan Hybrid/CNG) dimana mayoritas kendaraan dari ketiga jenis bahan bakar tersebut memiliki harga yang terkonsentrasi di rentang 0-5 juta."
      ]
    },
    {
      "cell_type": "markdown",
      "source": [
        "# Kesimpulan"
      ],
      "metadata": {
        "id": "ZFPFLkKQkRX5"
      }
    },
    {
      "cell_type": "markdown",
      "source": [
        "Analisis menunjukkan bahwa harga mobil bekas bervariasi berdasarkan tipe bahan bakar, dengan kendaraan berbahan bakar Diesel memiliki rata-rata harga tertinggi. Selain itu, distribusi harga menunjukkan bahwa sebagian besar kendaraan memiliki harga yang terkonsentrasi di rentang yang lebih rendah, terutama untuk tipe bahan bakar Petrol dan Hybrid/CNG."
      ],
      "metadata": {
        "id": "ubxqqOvPkVde"
      }
    },
    {
      "cell_type": "code",
      "execution_count": 30,
      "metadata": {
        "colab": {
          "base_uri": "https://localhost:8080/"
        },
        "id": "gVgbrYJNh9IX",
        "outputId": "a5c799b8-482d-4a21-aec2-b95e9384913d"
      },
      "outputs": [
        {
          "output_type": "stream",
          "name": "stdout",
          "text": [
            "Collecting streamlit\n",
            "  Downloading streamlit-1.41.1-py2.py3-none-any.whl.metadata (8.5 kB)\n",
            "Requirement already satisfied: altair<6,>=4.0 in /usr/local/lib/python3.10/dist-packages (from streamlit) (5.5.0)\n",
            "Requirement already satisfied: blinker<2,>=1.0.0 in /usr/local/lib/python3.10/dist-packages (from streamlit) (1.9.0)\n",
            "Requirement already satisfied: cachetools<6,>=4.0 in /usr/local/lib/python3.10/dist-packages (from streamlit) (5.5.0)\n",
            "Requirement already satisfied: click<9,>=7.0 in /usr/local/lib/python3.10/dist-packages (from streamlit) (8.1.7)\n",
            "Requirement already satisfied: numpy<3,>=1.23 in /usr/local/lib/python3.10/dist-packages (from streamlit) (1.26.4)\n",
            "Requirement already satisfied: packaging<25,>=20 in /usr/local/lib/python3.10/dist-packages (from streamlit) (24.2)\n",
            "Requirement already satisfied: pandas<3,>=1.4.0 in /usr/local/lib/python3.10/dist-packages (from streamlit) (2.2.2)\n",
            "Requirement already satisfied: pillow<12,>=7.1.0 in /usr/local/lib/python3.10/dist-packages (from streamlit) (11.0.0)\n",
            "Requirement already satisfied: protobuf<6,>=3.20 in /usr/local/lib/python3.10/dist-packages (from streamlit) (4.25.5)\n",
            "Requirement already satisfied: pyarrow>=7.0 in /usr/local/lib/python3.10/dist-packages (from streamlit) (17.0.0)\n",
            "Requirement already satisfied: requests<3,>=2.27 in /usr/local/lib/python3.10/dist-packages (from streamlit) (2.32.3)\n",
            "Requirement already satisfied: rich<14,>=10.14.0 in /usr/local/lib/python3.10/dist-packages (from streamlit) (13.9.4)\n",
            "Requirement already satisfied: tenacity<10,>=8.1.0 in /usr/local/lib/python3.10/dist-packages (from streamlit) (9.0.0)\n",
            "Requirement already satisfied: toml<2,>=0.10.1 in /usr/local/lib/python3.10/dist-packages (from streamlit) (0.10.2)\n",
            "Requirement already satisfied: typing-extensions<5,>=4.3.0 in /usr/local/lib/python3.10/dist-packages (from streamlit) (4.12.2)\n",
            "Collecting watchdog<7,>=2.1.5 (from streamlit)\n",
            "  Downloading watchdog-6.0.0-py3-none-manylinux2014_x86_64.whl.metadata (44 kB)\n",
            "\u001b[2K     \u001b[90m━━━━━━━━━━━━━━━━━━━━━━━━━━━━━━━━━━━━━━━━\u001b[0m \u001b[32m44.3/44.3 kB\u001b[0m \u001b[31m1.7 MB/s\u001b[0m eta \u001b[36m0:00:00\u001b[0m\n",
            "\u001b[?25hRequirement already satisfied: gitpython!=3.1.19,<4,>=3.0.7 in /usr/local/lib/python3.10/dist-packages (from streamlit) (3.1.43)\n",
            "Collecting pydeck<1,>=0.8.0b4 (from streamlit)\n",
            "  Downloading pydeck-0.9.1-py2.py3-none-any.whl.metadata (4.1 kB)\n",
            "Requirement already satisfied: tornado<7,>=6.0.3 in /usr/local/lib/python3.10/dist-packages (from streamlit) (6.3.3)\n",
            "Requirement already satisfied: jinja2 in /usr/local/lib/python3.10/dist-packages (from altair<6,>=4.0->streamlit) (3.1.4)\n",
            "Requirement already satisfied: jsonschema>=3.0 in /usr/local/lib/python3.10/dist-packages (from altair<6,>=4.0->streamlit) (4.23.0)\n",
            "Requirement already satisfied: narwhals>=1.14.2 in /usr/local/lib/python3.10/dist-packages (from altair<6,>=4.0->streamlit) (1.18.4)\n",
            "Requirement already satisfied: gitdb<5,>=4.0.1 in /usr/local/lib/python3.10/dist-packages (from gitpython!=3.1.19,<4,>=3.0.7->streamlit) (4.0.11)\n",
            "Requirement already satisfied: python-dateutil>=2.8.2 in /usr/local/lib/python3.10/dist-packages (from pandas<3,>=1.4.0->streamlit) (2.8.2)\n",
            "Requirement already satisfied: pytz>=2020.1 in /usr/local/lib/python3.10/dist-packages (from pandas<3,>=1.4.0->streamlit) (2024.2)\n",
            "Requirement already satisfied: tzdata>=2022.7 in /usr/local/lib/python3.10/dist-packages (from pandas<3,>=1.4.0->streamlit) (2024.2)\n",
            "Requirement already satisfied: charset-normalizer<4,>=2 in /usr/local/lib/python3.10/dist-packages (from requests<3,>=2.27->streamlit) (3.4.0)\n",
            "Requirement already satisfied: idna<4,>=2.5 in /usr/local/lib/python3.10/dist-packages (from requests<3,>=2.27->streamlit) (3.10)\n",
            "Requirement already satisfied: urllib3<3,>=1.21.1 in /usr/local/lib/python3.10/dist-packages (from requests<3,>=2.27->streamlit) (2.2.3)\n",
            "Requirement already satisfied: certifi>=2017.4.17 in /usr/local/lib/python3.10/dist-packages (from requests<3,>=2.27->streamlit) (2024.12.14)\n",
            "Requirement already satisfied: markdown-it-py>=2.2.0 in /usr/local/lib/python3.10/dist-packages (from rich<14,>=10.14.0->streamlit) (3.0.0)\n",
            "Requirement already satisfied: pygments<3.0.0,>=2.13.0 in /usr/local/lib/python3.10/dist-packages (from rich<14,>=10.14.0->streamlit) (2.18.0)\n",
            "Requirement already satisfied: smmap<6,>=3.0.1 in /usr/local/lib/python3.10/dist-packages (from gitdb<5,>=4.0.1->gitpython!=3.1.19,<4,>=3.0.7->streamlit) (5.0.1)\n",
            "Requirement already satisfied: MarkupSafe>=2.0 in /usr/local/lib/python3.10/dist-packages (from jinja2->altair<6,>=4.0->streamlit) (3.0.2)\n",
            "Requirement already satisfied: attrs>=22.2.0 in /usr/local/lib/python3.10/dist-packages (from jsonschema>=3.0->altair<6,>=4.0->streamlit) (24.3.0)\n",
            "Requirement already satisfied: jsonschema-specifications>=2023.03.6 in /usr/local/lib/python3.10/dist-packages (from jsonschema>=3.0->altair<6,>=4.0->streamlit) (2024.10.1)\n",
            "Requirement already satisfied: referencing>=0.28.4 in /usr/local/lib/python3.10/dist-packages (from jsonschema>=3.0->altair<6,>=4.0->streamlit) (0.35.1)\n",
            "Requirement already satisfied: rpds-py>=0.7.1 in /usr/local/lib/python3.10/dist-packages (from jsonschema>=3.0->altair<6,>=4.0->streamlit) (0.22.3)\n",
            "Requirement already satisfied: mdurl~=0.1 in /usr/local/lib/python3.10/dist-packages (from markdown-it-py>=2.2.0->rich<14,>=10.14.0->streamlit) (0.1.2)\n",
            "Requirement already satisfied: six>=1.5 in /usr/local/lib/python3.10/dist-packages (from python-dateutil>=2.8.2->pandas<3,>=1.4.0->streamlit) (1.17.0)\n",
            "Downloading streamlit-1.41.1-py2.py3-none-any.whl (9.1 MB)\n",
            "\u001b[2K   \u001b[90m━━━━━━━━━━━━━━━━━━━━━━━━━━━━━━━━━━━━━━━━\u001b[0m \u001b[32m9.1/9.1 MB\u001b[0m \u001b[31m52.8 MB/s\u001b[0m eta \u001b[36m0:00:00\u001b[0m\n",
            "\u001b[?25hDownloading pydeck-0.9.1-py2.py3-none-any.whl (6.9 MB)\n",
            "\u001b[2K   \u001b[90m━━━━━━━━━━━━━━━━━━━━━━━━━━━━━━━━━━━━━━━━\u001b[0m \u001b[32m6.9/6.9 MB\u001b[0m \u001b[31m89.5 MB/s\u001b[0m eta \u001b[36m0:00:00\u001b[0m\n",
            "\u001b[?25hDownloading watchdog-6.0.0-py3-none-manylinux2014_x86_64.whl (79 kB)\n",
            "\u001b[2K   \u001b[90m━━━━━━━━━━━━━━━━━━━━━━━━━━━━━━━━━━━━━━━━\u001b[0m \u001b[32m79.1/79.1 kB\u001b[0m \u001b[31m6.0 MB/s\u001b[0m eta \u001b[36m0:00:00\u001b[0m\n",
            "\u001b[?25hInstalling collected packages: watchdog, pydeck, streamlit\n",
            "Successfully installed pydeck-0.9.1 streamlit-1.41.1 watchdog-6.0.0\n"
          ]
        }
      ],
      "source": [
        "!pip install streamlit"
      ]
    },
    {
      "cell_type": "code",
      "execution_count": 31,
      "metadata": {
        "colab": {
          "base_uri": "https://localhost:8080/"
        },
        "id": "C_2M5yaeQhSe",
        "outputId": "2078a378-a80c-42ef-e3a7-178430215a62"
      },
      "outputs": [
        {
          "output_type": "stream",
          "name": "stderr",
          "text": [
            "2024-12-28 04:13:08.167 WARNING streamlit.runtime.scriptrunner_utils.script_run_context: Thread 'MainThread': missing ScriptRunContext! This warning can be ignored when running in bare mode.\n",
            "2024-12-28 04:13:08.170 WARNING streamlit.runtime.scriptrunner_utils.script_run_context: Thread 'MainThread': missing ScriptRunContext! This warning can be ignored when running in bare mode.\n",
            "2024-12-28 04:13:08.283 \n",
            "  \u001b[33m\u001b[1mWarning:\u001b[0m to view this Streamlit app on a browser, run it with the following\n",
            "  command:\n",
            "\n",
            "    streamlit run /usr/local/lib/python3.10/dist-packages/colab_kernel_launcher.py [ARGUMENTS]\n",
            "2024-12-28 04:13:08.287 Thread 'MainThread': missing ScriptRunContext! This warning can be ignored when running in bare mode.\n",
            "2024-12-28 04:13:08.291 No runtime found, using MemoryCacheStorageManager\n",
            "2024-12-28 04:13:08.296 No runtime found, using MemoryCacheStorageManager\n",
            "2024-12-28 04:13:08.297 Thread 'MainThread': missing ScriptRunContext! This warning can be ignored when running in bare mode.\n",
            "2024-12-28 04:13:08.300 Thread 'MainThread': missing ScriptRunContext! This warning can be ignored when running in bare mode.\n",
            "2024-12-28 04:13:08.302 Thread 'MainThread': missing ScriptRunContext! This warning can be ignored when running in bare mode.\n",
            "2024-12-28 04:13:08.342 Thread 'MainThread': missing ScriptRunContext! This warning can be ignored when running in bare mode.\n",
            "2024-12-28 04:13:08.343 Thread 'MainThread': missing ScriptRunContext! This warning can be ignored when running in bare mode.\n",
            "2024-12-28 04:13:08.348 Thread 'MainThread': missing ScriptRunContext! This warning can be ignored when running in bare mode.\n",
            "2024-12-28 04:13:08.350 Thread 'MainThread': missing ScriptRunContext! This warning can be ignored when running in bare mode.\n",
            "2024-12-28 04:13:08.353 Thread 'MainThread': missing ScriptRunContext! This warning can be ignored when running in bare mode.\n",
            "2024-12-28 04:13:08.358 Thread 'MainThread': missing ScriptRunContext! This warning can be ignored when running in bare mode.\n",
            "2024-12-28 04:13:08.402 Thread 'MainThread': missing ScriptRunContext! This warning can be ignored when running in bare mode.\n",
            "2024-12-28 04:13:08.403 Thread 'MainThread': missing ScriptRunContext! This warning can be ignored when running in bare mode.\n",
            "2024-12-28 04:13:08.406 Thread 'MainThread': missing ScriptRunContext! This warning can be ignored when running in bare mode.\n",
            "2024-12-28 04:13:08.407 Thread 'MainThread': missing ScriptRunContext! This warning can be ignored when running in bare mode.\n",
            "2024-12-28 04:13:08.409 Thread 'MainThread': missing ScriptRunContext! This warning can be ignored when running in bare mode.\n",
            "2024-12-28 04:13:08.410 Thread 'MainThread': missing ScriptRunContext! This warning can be ignored when running in bare mode.\n",
            "2024-12-28 04:13:08.413 Thread 'MainThread': missing ScriptRunContext! This warning can be ignored when running in bare mode.\n",
            "2024-12-28 04:13:08.415 Thread 'MainThread': missing ScriptRunContext! This warning can be ignored when running in bare mode.\n",
            "2024-12-28 04:13:08.416 Thread 'MainThread': missing ScriptRunContext! This warning can be ignored when running in bare mode.\n",
            "2024-12-28 04:13:08.419 Thread 'MainThread': missing ScriptRunContext! This warning can be ignored when running in bare mode.\n",
            "2024-12-28 04:13:08.420 Thread 'MainThread': missing ScriptRunContext! This warning can be ignored when running in bare mode.\n",
            "2024-12-28 04:13:08.422 Thread 'MainThread': missing ScriptRunContext! This warning can be ignored when running in bare mode.\n",
            "2024-12-28 04:13:08.424 Thread 'MainThread': missing ScriptRunContext! This warning can be ignored when running in bare mode.\n",
            "2024-12-28 04:13:08.454 Thread 'MainThread': missing ScriptRunContext! This warning can be ignored when running in bare mode.\n",
            "2024-12-28 04:13:08.456 Thread 'MainThread': missing ScriptRunContext! This warning can be ignored when running in bare mode.\n",
            "<ipython-input-31-0178e3cccbff>:48: SettingWithCopyWarning: \n",
            "A value is trying to be set on a copy of a slice from a DataFrame.\n",
            "Try using .loc[row_indexer,col_indexer] = value instead\n",
            "\n",
            "See the caveats in the documentation: https://pandas.pydata.org/pandas-docs/stable/user_guide/indexing.html#returning-a-view-versus-a-copy\n",
            "  df['AskPrice'] = pd.to_numeric(df['AskPrice'].str.replace('₹', '').str.replace(',', ''), errors='coerce')\n",
            "<ipython-input-31-0178e3cccbff>:49: SettingWithCopyWarning: \n",
            "A value is trying to be set on a copy of a slice from a DataFrame\n",
            "\n",
            "See the caveats in the documentation: https://pandas.pydata.org/pandas-docs/stable/user_guide/indexing.html#returning-a-view-versus-a-copy\n",
            "  df.drop_duplicates(subset=['kmDriven'], keep='first', inplace=True)\n",
            "2024-12-28 04:13:08.476 Thread 'MainThread': missing ScriptRunContext! This warning can be ignored when running in bare mode.\n",
            "2024-12-28 04:13:08.477 Thread 'MainThread': missing ScriptRunContext! This warning can be ignored when running in bare mode.\n",
            "2024-12-28 04:13:08.481 Thread 'MainThread': missing ScriptRunContext! This warning can be ignored when running in bare mode.\n",
            "2024-12-28 04:13:08.483 Thread 'MainThread': missing ScriptRunContext! This warning can be ignored when running in bare mode.\n",
            "2024-12-28 04:13:08.501 Serialization of dataframe to Arrow table was unsuccessful due to: (\"Could not convert Timestamp('2022-01-03 19:15:19.001919488') with type Timestamp: tried to convert to int64\", 'Conversion failed for column Year with type object'). Applying automatic fixes for column types to make the dataframe Arrow-compatible.\n",
            "2024-12-28 04:13:08.508 Thread 'MainThread': missing ScriptRunContext! This warning can be ignored when running in bare mode.\n",
            "2024-12-28 04:13:08.510 Thread 'MainThread': missing ScriptRunContext! This warning can be ignored when running in bare mode.\n",
            "2024-12-28 04:13:08.513 Thread 'MainThread': missing ScriptRunContext! This warning can be ignored when running in bare mode.\n",
            "2024-12-28 04:13:08.516 Thread 'MainThread': missing ScriptRunContext! This warning can be ignored when running in bare mode.\n",
            "2024-12-28 04:13:08.532 Thread 'MainThread': missing ScriptRunContext! This warning can be ignored when running in bare mode.\n",
            "2024-12-28 04:13:08.535 Thread 'MainThread': missing ScriptRunContext! This warning can be ignored when running in bare mode.\n",
            "2024-12-28 04:13:08.537 Thread 'MainThread': missing ScriptRunContext! This warning can be ignored when running in bare mode.\n",
            "2024-12-28 04:13:08.540 Thread 'MainThread': missing ScriptRunContext! This warning can be ignored when running in bare mode.\n",
            "2024-12-28 04:13:08.547 Thread 'MainThread': missing ScriptRunContext! This warning can be ignored when running in bare mode.\n",
            "2024-12-28 04:13:08.548 Thread 'MainThread': missing ScriptRunContext! This warning can be ignored when running in bare mode.\n",
            "2024-12-28 04:13:08.551 Thread 'MainThread': missing ScriptRunContext! This warning can be ignored when running in bare mode.\n",
            "2024-12-28 04:13:08.552 Thread 'MainThread': missing ScriptRunContext! This warning can be ignored when running in bare mode.\n",
            "2024-12-28 04:13:08.553 Thread 'MainThread': missing ScriptRunContext! This warning can be ignored when running in bare mode.\n",
            "2024-12-28 04:13:08.554 Thread 'MainThread': missing ScriptRunContext! This warning can be ignored when running in bare mode.\n",
            "2024-12-28 04:13:08.674 Thread 'MainThread': missing ScriptRunContext! This warning can be ignored when running in bare mode.\n",
            "2024-12-28 04:13:09.094 Thread 'MainThread': missing ScriptRunContext! This warning can be ignored when running in bare mode.\n",
            "2024-12-28 04:13:09.096 Thread 'MainThread': missing ScriptRunContext! This warning can be ignored when running in bare mode.\n",
            "2024-12-28 04:13:09.099 Thread 'MainThread': missing ScriptRunContext! This warning can be ignored when running in bare mode.\n",
            "2024-12-28 04:13:09.101 Thread 'MainThread': missing ScriptRunContext! This warning can be ignored when running in bare mode.\n",
            "2024-12-28 04:13:09.104 Thread 'MainThread': missing ScriptRunContext! This warning can be ignored when running in bare mode.\n",
            "2024-12-28 04:13:09.105 Thread 'MainThread': missing ScriptRunContext! This warning can be ignored when running in bare mode.\n",
            "2024-12-28 04:13:09.107 Thread 'MainThread': missing ScriptRunContext! This warning can be ignored when running in bare mode.\n",
            "<ipython-input-31-0178e3cccbff>:84: FutureWarning: \n",
            "\n",
            "The `ci` parameter is deprecated. Use `errorbar=None` for the same effect.\n",
            "\n",
            "  sns.lineplot(x='Year', y='AskPrice', hue='FuelType', data=df, ci=None, ax=ax)\n",
            "2024-12-28 04:13:09.206 Thread 'MainThread': missing ScriptRunContext! This warning can be ignored when running in bare mode.\n",
            "2024-12-28 04:13:09.617 Thread 'MainThread': missing ScriptRunContext! This warning can be ignored when running in bare mode.\n",
            "2024-12-28 04:13:09.619 Thread 'MainThread': missing ScriptRunContext! This warning can be ignored when running in bare mode.\n",
            "<ipython-input-31-0178e3cccbff>:91: FutureWarning: \n",
            "\n",
            "Passing `palette` without assigning `hue` is deprecated and will be removed in v0.14.0. Assign the `x` variable to `hue` and set `legend=False` for the same effect.\n",
            "\n",
            "  sns.countplot(x='FuelType', data=data_filtered, palette='viridis', ax=ax)\n",
            "2024-12-28 04:13:09.687 Thread 'MainThread': missing ScriptRunContext! This warning can be ignored when running in bare mode.\n",
            "2024-12-28 04:13:09.905 Thread 'MainThread': missing ScriptRunContext! This warning can be ignored when running in bare mode.\n",
            "2024-12-28 04:13:09.907 Thread 'MainThread': missing ScriptRunContext! This warning can be ignored when running in bare mode.\n",
            "2024-12-28 04:13:09.910 Thread 'MainThread': missing ScriptRunContext! This warning can be ignored when running in bare mode.\n",
            "2024-12-28 04:13:09.912 Thread 'MainThread': missing ScriptRunContext! This warning can be ignored when running in bare mode.\n",
            "2024-12-28 04:13:09.914 Thread 'MainThread': missing ScriptRunContext! This warning can be ignored when running in bare mode.\n",
            "2024-12-28 04:13:09.916 Thread 'MainThread': missing ScriptRunContext! This warning can be ignored when running in bare mode.\n",
            "2024-12-28 04:13:09.917 Thread 'MainThread': missing ScriptRunContext! This warning can be ignored when running in bare mode.\n",
            "2024-12-28 04:13:09.962 Thread 'MainThread': missing ScriptRunContext! This warning can be ignored when running in bare mode.\n",
            "2024-12-28 04:13:10.186 Thread 'MainThread': missing ScriptRunContext! This warning can be ignored when running in bare mode.\n",
            "2024-12-28 04:13:10.187 Thread 'MainThread': missing ScriptRunContext! This warning can be ignored when running in bare mode.\n",
            "2024-12-28 04:13:10.305 Thread 'MainThread': missing ScriptRunContext! This warning can be ignored when running in bare mode.\n",
            "2024-12-28 04:13:10.658 Thread 'MainThread': missing ScriptRunContext! This warning can be ignored when running in bare mode.\n",
            "2024-12-28 04:13:10.659 Thread 'MainThread': missing ScriptRunContext! This warning can be ignored when running in bare mode.\n"
          ]
        }
      ],
      "source": [
        "import pandas as pd\n",
        "import io\n",
        "import matplotlib.pyplot as plt\n",
        "import seaborn as sns\n",
        "import numpy as np\n",
        "import streamlit as st\n",
        "from statsmodels.tsa.seasonal import seasonal_decompose\n",
        "\n",
        "# Set page config\n",
        "st.set_page_config(page_title=\"Used Car Price Analysis\", layout=\"wide\")\n",
        "\n",
        "# Title of the dashboard\n",
        "st.title(\"Used Car Price Analysis Dashboard\")\n",
        "\n",
        "# Load data\n",
        "@st.cache_data\n",
        "def load_data():\n",
        "    df = pd.read_csv('used_car_dataset.csv')\n",
        "    return df\n",
        "\n",
        "df = load_data()\n",
        "\n",
        "# Data Overview Section\n",
        "st.header(\"1. Data Overview\")\n",
        "\n",
        "# Display raw dataset\n",
        "st.subheader(\"Raw Dataset\")\n",
        "st.dataframe(df.head())\n",
        "\n",
        "# Data Gathering Summary\n",
        "st.subheader(\"Data Gathering Summary\")\n",
        "col1, col2 = st.columns(2)\n",
        "with col1:\n",
        "    st.metric(\"Total Records\", len(df))\n",
        "with col2:\n",
        "    st.metric(\"Total Columns\", len(df.columns))\n",
        "\n",
        "# Dataset Info\n",
        "st.subheader(\"Dataset Information\")\n",
        "buffer = io.StringIO()\n",
        "df.info(buf=buffer)\n",
        "st.text(buffer.getvalue())\n",
        "\n",
        "# Data Preprocessing\n",
        "current_year = 2024\n",
        "df['Year'] = pd.to_datetime(df['Year'], format='%Y')\n",
        "df = df[df['Year'].dt.year >= current_year - 3]\n",
        "df['AskPrice'] = pd.to_numeric(df['AskPrice'].str.replace('₹', '').str.replace(',', ''), errors='coerce')\n",
        "df.drop_duplicates(subset=['kmDriven'], keep='first', inplace=True)\n",
        "data_filtered = df[['FuelType', 'AskPrice']].dropna()\n",
        "\n",
        "# Descriptive Statistics Section\n",
        "st.header(\"2. Descriptive Statistics\")\n",
        "\n",
        "# Overall Statistics\n",
        "st.subheader(\"Overall Statistics\")\n",
        "st.dataframe(df.describe())\n",
        "\n",
        "# Fuel Type Statistics\n",
        "st.subheader(\"Statistics by Fuel Type\")\n",
        "st.dataframe(df.groupby('FuelType')['AskPrice'].describe())\n",
        "\n",
        "# Data Distribution\n",
        "st.subheader(\"Fuel Type Distribution\")\n",
        "st.dataframe(data_filtered['FuelType'].value_counts())\n",
        "\n",
        "# Visualizations Section\n",
        "st.header(\"3. Data Visualizations\")\n",
        "\n",
        "# Correlation Heatmap\n",
        "st.subheader(\"Correlation Heatmap\")\n",
        "numerical_features = df.select_dtypes(include=['number'])\n",
        "fig, ax = plt.subplots(figsize=(10, 6))\n",
        "sns.heatmap(numerical_features.corr(), annot=True, cmap='coolwarm', ax=ax)\n",
        "st.pyplot(fig)\n",
        "plt.close()\n",
        "\n",
        "# Price Trends\n",
        "st.subheader(\"Price Trends\")\n",
        "col1, col2 = st.columns(2)\n",
        "\n",
        "with col1:\n",
        "    fig, ax = plt.subplots(figsize=(8, 5))\n",
        "    sns.lineplot(x='Year', y='AskPrice', hue='FuelType', data=df, ci=None, ax=ax)\n",
        "    plt.title('Average Price Trend by Fuel Type')\n",
        "    st.pyplot(fig)\n",
        "    plt.close()\n",
        "\n",
        "with col2:\n",
        "    fig, ax = plt.subplots(figsize=(8, 5))\n",
        "    sns.countplot(x='FuelType', data=data_filtered, palette='viridis', ax=ax)\n",
        "    plt.title('Fuel Type Distribution')\n",
        "    plt.xticks(rotation=45)\n",
        "    st.pyplot(fig)\n",
        "    plt.close()\n",
        "\n",
        "# Price Distribution\n",
        "st.subheader(\"Price Distribution Analysis\")\n",
        "col1, col2 = st.columns(2)\n",
        "\n",
        "with col1:\n",
        "    avg_price = data_filtered.groupby('FuelType')['AskPrice'].mean().sort_values()\n",
        "    fig, ax = plt.subplots(figsize=(8, 5))\n",
        "    avg_price.plot(kind='bar', color='skyblue', edgecolor='black', ax=ax)\n",
        "    plt.title('Average Price by Fuel Type')\n",
        "    plt.xticks(rotation=45)\n",
        "    st.pyplot(fig)\n",
        "    plt.close()\n",
        "\n",
        "with col2:\n",
        "    fig, ax = plt.subplots(figsize=(8, 5))\n",
        "    sns.kdeplot(data=data_filtered, x='AskPrice', hue='FuelType', fill=True, alpha=0.5, ax=ax)\n",
        "    plt.title('Price Distribution by Fuel Type')\n",
        "    st.pyplot(fig)\n",
        "    plt.close()\n"
      ]
    }
  ],
  "metadata": {
    "colab": {
      "provenance": []
    },
    "kernelspec": {
      "display_name": "Python 3",
      "language": "python",
      "name": "python3"
    },
    "language_info": {
      "codemirror_mode": {
        "name": "ipython",
        "version": 3
      },
      "file_extension": ".py",
      "mimetype": "text/x-python",
      "name": "python",
      "nbconvert_exporter": "python",
      "pygments_lexer": "ipython3",
      "version": "3.11.2"
    }
  },
  "nbformat": 4,
  "nbformat_minor": 0
}